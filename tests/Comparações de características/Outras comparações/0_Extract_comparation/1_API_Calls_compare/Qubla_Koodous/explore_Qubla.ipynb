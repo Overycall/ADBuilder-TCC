{
 "cells": [
  {
   "cell_type": "code",
   "execution_count": 1,
   "metadata": {},
   "outputs": [
    {
     "data": {
      "text/plain": [
       "(1, 13)"
      ]
     },
     "execution_count": 1,
     "metadata": {},
     "output_type": "execute_result"
    }
   ],
   "source": [
    "import pandas as pd\n",
    "\n",
    "df = pd.read_csv(\"0b3ae8423911939db258a084e57c32bf01ec31591d70e2b5bdac1a909033254b.csv\")\n",
    "df.shape"
   ]
  },
  {
   "cell_type": "code",
   "execution_count": 2,
   "metadata": {},
   "outputs": [
    {
     "data": {
      "text/html": [
       "<div>\n",
       "<style scoped>\n",
       "    .dataframe tbody tr th:only-of-type {\n",
       "        vertical-align: middle;\n",
       "    }\n",
       "\n",
       "    .dataframe tbody tr th {\n",
       "        vertical-align: top;\n",
       "    }\n",
       "\n",
       "    .dataframe thead th {\n",
       "        text-align: right;\n",
       "    }\n",
       "</style>\n",
       "<table border=\"1\" class=\"dataframe\">\n",
       "  <thead>\n",
       "    <tr style=\"text-align: right;\">\n",
       "      <th></th>\n",
       "      <th>SHA256</th>\n",
       "      <th>NOME</th>\n",
       "      <th>PACOTE</th>\n",
       "      <th>API</th>\n",
       "      <th>API_MIN</th>\n",
       "      <th>PERMISSOES</th>\n",
       "      <th>INTENTS</th>\n",
       "      <th>ACTIVITYS</th>\n",
       "      <th>SERVICES</th>\n",
       "      <th>RECEIVER</th>\n",
       "      <th>PROVIDER</th>\n",
       "      <th>OPCODES</th>\n",
       "      <th>APICALLS</th>\n",
       "    </tr>\n",
       "  </thead>\n",
       "  <tbody>\n",
       "    <tr>\n",
       "      <th>0</th>\n",
       "      <td>0b3ae8423911939db258a084e57c32bf01ec31591d70e2...</td>\n",
       "      <td>Qubla</td>\n",
       "      <td>com.qub.la</td>\n",
       "      <td>30</td>\n",
       "      <td>23</td>\n",
       "      <td>['com.huawei.android.launcher.permission.READ_...</td>\n",
       "      <td>['com.huawei.push.action.MESSAGING_EVENT', 'co...</td>\n",
       "      <td>['com.qub.la.StartActivity', 'com.qub.la.MainA...</td>\n",
       "      <td>['com.onesignal.HmsMessageServiceOneSignal', '...</td>\n",
       "      <td>['com.appsflyer.SingleInstallBroadcastReceiver...</td>\n",
       "      <td>['androidx.camera.camera2.impl.Camera2Initiali...</td>\n",
       "      <td>['new-instance', 'invoke-direct', 'sput-object...</td>\n",
       "      <td>[\"['LNZLUURKFBvraoxb/AaUUQhmOpKpoYMlAGlrZfdi.g...</td>\n",
       "    </tr>\n",
       "  </tbody>\n",
       "</table>\n",
       "</div>"
      ],
      "text/plain": [
       "                                              SHA256   NOME      PACOTE  API  \\\n",
       "0  0b3ae8423911939db258a084e57c32bf01ec31591d70e2...  Qubla  com.qub.la   30   \n",
       "\n",
       "   API_MIN                                         PERMISSOES  \\\n",
       "0       23  ['com.huawei.android.launcher.permission.READ_...   \n",
       "\n",
       "                                             INTENTS  \\\n",
       "0  ['com.huawei.push.action.MESSAGING_EVENT', 'co...   \n",
       "\n",
       "                                           ACTIVITYS  \\\n",
       "0  ['com.qub.la.StartActivity', 'com.qub.la.MainA...   \n",
       "\n",
       "                                            SERVICES  \\\n",
       "0  ['com.onesignal.HmsMessageServiceOneSignal', '...   \n",
       "\n",
       "                                            RECEIVER  \\\n",
       "0  ['com.appsflyer.SingleInstallBroadcastReceiver...   \n",
       "\n",
       "                                            PROVIDER  \\\n",
       "0  ['androidx.camera.camera2.impl.Camera2Initiali...   \n",
       "\n",
       "                                             OPCODES  \\\n",
       "0  ['new-instance', 'invoke-direct', 'sput-object...   \n",
       "\n",
       "                                            APICALLS  \n",
       "0  [\"['LNZLUURKFBvraoxb/AaUUQhmOpKpoYMlAGlrZfdi.g...  "
      ]
     },
     "execution_count": 2,
     "metadata": {},
     "output_type": "execute_result"
    }
   ],
   "source": [
    "df.head()"
   ]
  },
  {
   "cell_type": "code",
   "execution_count": 3,
   "metadata": {},
   "outputs": [
    {
     "data": {
      "text/plain": [
       "33"
      ]
     },
     "execution_count": 3,
     "metadata": {},
     "output_type": "execute_result"
    }
   ],
   "source": [
    "len(df['PERMISSOES'][0].split(\",\"))"
   ]
  },
  {
   "cell_type": "code",
   "execution_count": 4,
   "metadata": {},
   "outputs": [
    {
     "data": {
      "text/plain": [
       "28"
      ]
     },
     "execution_count": 4,
     "metadata": {},
     "output_type": "execute_result"
    }
   ],
   "source": [
    "len(df['INTENTS'][0].split(\",\"))"
   ]
  },
  {
   "cell_type": "code",
   "execution_count": 15,
   "metadata": {},
   "outputs": [
    {
     "data": {
      "text/plain": [
       "10"
      ]
     },
     "execution_count": 15,
     "metadata": {},
     "output_type": "execute_result"
    }
   ],
   "source": [
    "len(df['ACTIVITYS'][0].split(\",\"))"
   ]
  },
  {
   "cell_type": "code",
   "execution_count": 10,
   "metadata": {},
   "outputs": [
    {
     "data": {
      "text/plain": [
       "16992"
      ]
     },
     "execution_count": 10,
     "metadata": {},
     "output_type": "execute_result"
    }
   ],
   "source": [
    "len(df['APICALLS'][0].split(\",\"))"
   ]
  },
  {
   "cell_type": "code",
   "execution_count": 16,
   "metadata": {},
   "outputs": [
    {
     "data": {
      "text/plain": [
       "0"
      ]
     },
     "execution_count": 16,
     "metadata": {},
     "output_type": "execute_result"
    }
   ],
   "source": [
    "aux_df_ACT = pd.DataFrame()\n",
    "aux_df_ACT['ACTIVITYS'] = df['ACTIVITYS'][0].split(\",\")\n",
    "len(aux_df_ACT[aux_df_ACT['ACTIVITYS'].duplicated()])"
   ]
  },
  {
   "cell_type": "code",
   "execution_count": 13,
   "metadata": {},
   "outputs": [
    {
     "data": {
      "text/plain": [
       "0"
      ]
     },
     "execution_count": 13,
     "metadata": {},
     "output_type": "execute_result"
    }
   ],
   "source": [
    "aux_df_API = pd.DataFrame()\n",
    "aux_df_API['APICALLS'] = df['APICALLS'][0].split(\",\")\n",
    "len(aux_df_API[aux_df_API['APICALLS'].duplicated()])"
   ]
  },
  {
   "cell_type": "code",
   "execution_count": 9,
   "metadata": {},
   "outputs": [
    {
     "data": {
      "text/plain": [
       "3"
      ]
     },
     "execution_count": 9,
     "metadata": {},
     "output_type": "execute_result"
    }
   ],
   "source": [
    "aux_df = pd.DataFrame()\n",
    "aux_df['INTENTS'] = df['INTENTS'][0].split(\",\")\n",
    "len(aux_df[aux_df['INTENTS'].duplicated()])"
   ]
  },
  {
   "cell_type": "code",
   "execution_count": 8,
   "metadata": {},
   "outputs": [
    {
     "name": "stdout",
     "output_type": "stream",
     "text": [
      " 'android.intent.action.ACTION_POWER_CONNECTED'\n",
      " 'android.intent.action.ACTION_POWER_DISCONNECTED'\n",
      " 'android.intent.action.BATTERY_LOW'\n",
      " 'android.intent.action.BATTERY_OKAY'\n",
      " 'android.intent.action.BOOT_COMPLETED'\n",
      " 'android.intent.action.BOOT_COMPLETED'\n",
      " 'android.intent.action.DEVICE_STORAGE_LOW'\n",
      " 'android.intent.action.DEVICE_STORAGE_OK'\n",
      " 'android.intent.action.MAIN'\n",
      " 'android.intent.action.MY_PACKAGE_REPLACED'\n",
      " 'android.intent.action.QUICKBOOT_POWERON'\n",
      " 'android.intent.action.TIMEZONE_CHANGED'\n",
      " 'android.intent.action.TIME_SET'\n",
      " 'android.intent.action.VIEW'\n",
      " 'android.intent.action.VIEW'\n",
      " 'android.intent.category.BROWSABLE']\n",
      " 'android.intent.category.DEFAULT'\n",
      " 'android.intent.category.LAUNCHER'\n",
      " 'android.net.conn.CONNECTIVITY_CHANGE'\n",
      " 'androidx.work.diagnostics.REQUEST_DIAGNOSTICS'\n",
      " 'androidx.work.impl.background.systemalarm.UpdateProxies'\n",
      " 'com.android.vending.INSTALL_REFERRER'\n",
      " 'com.facebook.sdk.ACTION_CURRENT_ACCESS_TOKEN_CHANGED'\n",
      " 'com.google.android.c2dm.intent.RECEIVE'\n",
      " 'com.google.android.c2dm.intent.RECEIVE'\n",
      " 'com.google.firebase.MESSAGING_EVENT'\n",
      " 'com.qub.la'\n",
      "['com.huawei.push.action.MESSAGING_EVENT'\n"
     ]
    }
   ],
   "source": [
    "for i in sorted(df['INTENTS'][0].split(\",\")):\n",
    "    print(i)"
   ]
  }
 ],
 "metadata": {
  "kernelspec": {
   "display_name": "Python 3.9.13 64-bit (windows store)",
   "language": "python",
   "name": "python3"
  },
  "language_info": {
   "codemirror_mode": {
    "name": "ipython",
    "version": 3
   },
   "file_extension": ".py",
   "mimetype": "text/x-python",
   "name": "python",
   "nbconvert_exporter": "python",
   "pygments_lexer": "ipython3",
   "version": "3.9.13"
  },
  "orig_nbformat": 4,
  "vscode": {
   "interpreter": {
    "hash": "d91edcd1d680c704b7f2fade50b7432a288b39baa723c7dec24d1ad2f238d26b"
   }
  }
 },
 "nbformat": 4,
 "nbformat_minor": 2
}
