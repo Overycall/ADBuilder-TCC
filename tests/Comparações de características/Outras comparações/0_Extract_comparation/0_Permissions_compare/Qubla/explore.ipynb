{
 "cells": [
  {
   "cell_type": "code",
   "execution_count": 1,
   "metadata": {},
   "outputs": [
    {
     "data": {
      "text/plain": [
       "(1, 13)"
      ]
     },
     "execution_count": 1,
     "metadata": {},
     "output_type": "execute_result"
    }
   ],
   "source": [
    "import pandas as pd\n",
    "\n",
    "df = pd.read_csv(\"0b3ae8423911939db258a084e57c32bf01ec31591d70e2b5bdac1a909033254b.csv\")\n",
    "df.shape"
   ]
  },
  {
   "cell_type": "code",
   "execution_count": 2,
   "metadata": {},
   "outputs": [
    {
     "data": {
      "text/html": [
       "<div>\n",
       "<style scoped>\n",
       "    .dataframe tbody tr th:only-of-type {\n",
       "        vertical-align: middle;\n",
       "    }\n",
       "\n",
       "    .dataframe tbody tr th {\n",
       "        vertical-align: top;\n",
       "    }\n",
       "\n",
       "    .dataframe thead th {\n",
       "        text-align: right;\n",
       "    }\n",
       "</style>\n",
       "<table border=\"1\" class=\"dataframe\">\n",
       "  <thead>\n",
       "    <tr style=\"text-align: right;\">\n",
       "      <th></th>\n",
       "      <th>SHA256</th>\n",
       "      <th>NOME</th>\n",
       "      <th>PACOTE</th>\n",
       "      <th>API</th>\n",
       "      <th>API_MIN</th>\n",
       "      <th>PERMISSOES</th>\n",
       "      <th>INTENTS</th>\n",
       "      <th>ACTIVITYS</th>\n",
       "      <th>SERVICES</th>\n",
       "      <th>RECEIVER</th>\n",
       "      <th>PROVIDER</th>\n",
       "      <th>OPCODES</th>\n",
       "      <th>APICALLS</th>\n",
       "    </tr>\n",
       "  </thead>\n",
       "  <tbody>\n",
       "    <tr>\n",
       "      <th>0</th>\n",
       "      <td>0b3ae8423911939db258a084e57c32bf01ec31591d70e2...</td>\n",
       "      <td>Qubla</td>\n",
       "      <td>com.qub.la</td>\n",
       "      <td>30</td>\n",
       "      <td>23</td>\n",
       "      <td>['com.huawei.android.launcher.permission.WRITE...</td>\n",
       "      <td>['com.huawei.push.action.MESSAGING_EVENT', 'co...</td>\n",
       "      <td>['com.qub.la.StartActivity', 'com.qub.la.MainA...</td>\n",
       "      <td>['com.onesignal.HmsMessageServiceOneSignal', '...</td>\n",
       "      <td>['com.appsflyer.SingleInstallBroadcastReceiver...</td>\n",
       "      <td>['androidx.camera.camera2.impl.Camera2Initiali...</td>\n",
       "      <td>['new-instance', 'invoke-direct', 'sput-object...</td>\n",
       "      <td>[\"['LNZLUURKFBvraoxb/AaUUQhmOpKpoYMlAGlrZfdi.g...</td>\n",
       "    </tr>\n",
       "  </tbody>\n",
       "</table>\n",
       "</div>"
      ],
      "text/plain": [
       "                                              SHA256   NOME      PACOTE  API  \\\n",
       "0  0b3ae8423911939db258a084e57c32bf01ec31591d70e2...  Qubla  com.qub.la   30   \n",
       "\n",
       "   API_MIN                                         PERMISSOES  \\\n",
       "0       23  ['com.huawei.android.launcher.permission.WRITE...   \n",
       "\n",
       "                                             INTENTS  \\\n",
       "0  ['com.huawei.push.action.MESSAGING_EVENT', 'co...   \n",
       "\n",
       "                                           ACTIVITYS  \\\n",
       "0  ['com.qub.la.StartActivity', 'com.qub.la.MainA...   \n",
       "\n",
       "                                            SERVICES  \\\n",
       "0  ['com.onesignal.HmsMessageServiceOneSignal', '...   \n",
       "\n",
       "                                            RECEIVER  \\\n",
       "0  ['com.appsflyer.SingleInstallBroadcastReceiver...   \n",
       "\n",
       "                                            PROVIDER  \\\n",
       "0  ['androidx.camera.camera2.impl.Camera2Initiali...   \n",
       "\n",
       "                                             OPCODES  \\\n",
       "0  ['new-instance', 'invoke-direct', 'sput-object...   \n",
       "\n",
       "                                            APICALLS  \n",
       "0  [\"['LNZLUURKFBvraoxb/AaUUQhmOpKpoYMlAGlrZfdi.g...  "
      ]
     },
     "execution_count": 2,
     "metadata": {},
     "output_type": "execute_result"
    }
   ],
   "source": [
    "df.head()"
   ]
  },
  {
   "cell_type": "code",
   "execution_count": 3,
   "metadata": {},
   "outputs": [
    {
     "data": {
      "text/plain": [
       "33"
      ]
     },
     "execution_count": 3,
     "metadata": {},
     "output_type": "execute_result"
    }
   ],
   "source": [
    "split_PERM = df['PERMISSOES'][0].split(\",\")\n",
    "len(split_PERM)"
   ]
  },
  {
   "cell_type": "code",
   "execution_count": 4,
   "metadata": {},
   "outputs": [
    {
     "name": "stdout",
     "output_type": "stream",
     "text": [
      "['com.huawei.android.launcher.permission.WRITE_SETTINGS'\n",
      " 'android.permission.RECEIVE_BOOT_COMPLETED'\n",
      " 'android.permission.VIBRATE'\n",
      " 'com.htc.launcher.permission.READ_SETTINGS'\n",
      " 'android.permission.ACCESS_FINE_LOCATION'\n",
      " 'android.permission.INTERNET'\n",
      " 'android.permission.CAMERA'\n",
      " 'com.huawei.android.launcher.permission.CHANGE_BADGE'\n",
      " 'com.majeur.launcher.permission.UPDATE_BADGE'\n",
      " 'com.oppo.launcher.permission.READ_SETTINGS'\n",
      " 'com.sonyericsson.home.permission.BROADCAST_BADGE'\n",
      " 'android.permission.WRITE_EXTERNAL_STORAGE'\n",
      " 'me.everything.badger.permission.BADGE_COUNT_READ'\n",
      " 'android.permission.FOREGROUND_SERVICE'\n",
      " 'com.sonymobile.home.permission.PROVIDER_INSERT_BADGE'\n",
      " 'com.sec.android.provider.badge.permission.READ'\n",
      " 'android.permission.ACCESS_NETWORK_STATE'\n",
      " 'com.htc.launcher.permission.UPDATE_SHORTCUT'\n",
      " 'com.google.android.finsky.permission.BIND_GET_INSTALL_REFERRER_SERVICE'\n",
      " 'android.permission.READ_EXTERNAL_STORAGE'\n",
      " 'android.permission.ACCESS_COARSE_LOCATION'\n",
      " 'me.everything.badger.permission.BADGE_COUNT_WRITE'\n",
      " 'com.google.android.c2dm.permission.RECEIVE'\n",
      " 'com.sec.android.provider.badge.permission.WRITE'\n",
      " 'android.permission.WAKE_LOCK'\n",
      " 'com.anddoes.launcher.permission.UPDATE_COUNT'\n",
      " 'android.permission.READ_APP_BADGE'\n",
      " 'com.oppo.launcher.permission.WRITE_SETTINGS'\n",
      " 'com.qub.la.permission.C2D_MESSAGE'\n",
      " 'android.permission.ACCESS_WIFI_STATE'\n",
      " 'android.permission.READ_PHONE_STATE'\n",
      " 'android.permission.REQUEST_INSTALL_PACKAGES'\n",
      " 'com.huawei.android.launcher.permission.READ_SETTINGS']\n"
     ]
    }
   ],
   "source": [
    "for i in split_PERM:\n",
    "    print(i)"
   ]
  }
 ],
 "metadata": {
  "interpreter": {
   "hash": "d91edcd1d680c704b7f2fade50b7432a288b39baa723c7dec24d1ad2f238d26b"
  },
  "kernelspec": {
   "display_name": "Python 3.9.13 64-bit (windows store)",
   "language": "python",
   "name": "python3"
  },
  "language_info": {
   "codemirror_mode": {
    "name": "ipython",
    "version": 3
   },
   "file_extension": ".py",
   "mimetype": "text/x-python",
   "name": "python",
   "nbconvert_exporter": "python",
   "pygments_lexer": "ipython3",
   "version": "3.9.13"
  },
  "orig_nbformat": 4
 },
 "nbformat": 4,
 "nbformat_minor": 2
}
