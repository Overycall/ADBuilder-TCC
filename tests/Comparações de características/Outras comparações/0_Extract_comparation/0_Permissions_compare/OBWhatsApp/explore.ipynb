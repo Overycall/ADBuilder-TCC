{
 "cells": [
  {
   "cell_type": "code",
   "execution_count": 5,
   "metadata": {},
   "outputs": [
    {
     "data": {
      "text/plain": [
       "(1, 13)"
      ]
     },
     "execution_count": 5,
     "metadata": {},
     "output_type": "execute_result"
    }
   ],
   "source": [
    "import pandas as pd\n",
    "\n",
    "df = pd.read_csv(\"6cfa96a0d96e9888d695c9c2073d95cae50867c5892f136f9e6035076b3029a9.csv\")\n",
    "df.shape"
   ]
  },
  {
   "cell_type": "code",
   "execution_count": 6,
   "metadata": {},
   "outputs": [
    {
     "data": {
      "text/html": [
       "<div>\n",
       "<style scoped>\n",
       "    .dataframe tbody tr th:only-of-type {\n",
       "        vertical-align: middle;\n",
       "    }\n",
       "\n",
       "    .dataframe tbody tr th {\n",
       "        vertical-align: top;\n",
       "    }\n",
       "\n",
       "    .dataframe thead th {\n",
       "        text-align: right;\n",
       "    }\n",
       "</style>\n",
       "<table border=\"1\" class=\"dataframe\">\n",
       "  <thead>\n",
       "    <tr style=\"text-align: right;\">\n",
       "      <th></th>\n",
       "      <th>SHA256</th>\n",
       "      <th>NOME</th>\n",
       "      <th>PACOTE</th>\n",
       "      <th>API</th>\n",
       "      <th>API_MIN</th>\n",
       "      <th>PERMISSOES</th>\n",
       "      <th>INTENTS</th>\n",
       "      <th>ACTIVITYS</th>\n",
       "      <th>SERVICES</th>\n",
       "      <th>RECEIVER</th>\n",
       "      <th>PROVIDER</th>\n",
       "      <th>OPCODES</th>\n",
       "      <th>APICALLS</th>\n",
       "    </tr>\n",
       "  </thead>\n",
       "  <tbody>\n",
       "    <tr>\n",
       "      <th>0</th>\n",
       "      <td>6cfa96a0d96e9888d695c9c2073d95cae50867c5892f13...</td>\n",
       "      <td>OBWhatsApp</td>\n",
       "      <td>com.obwhatsapp</td>\n",
       "      <td>29</td>\n",
       "      <td>16</td>\n",
       "      <td>['android.permission.RECORD_AUDIO', 'android.p...</td>\n",
       "      <td>['com.obwhatsapp.instrumentation.REQUEST', 'an...</td>\n",
       "      <td>['com.obwhatsapp.instrumentation.ui.Instrument...</td>\n",
       "      <td>['com.obwhatsapp.instrumentation.service.Instr...</td>\n",
       "      <td>['com.obwhatsapp.migration.android.api.Deferre...</td>\n",
       "      <td>['com.obwhatsapp.instrumentation.api.Instrumen...</td>\n",
       "      <td>['iput-object', 'invoke-direct', 'return-void'...</td>\n",
       "      <td>[\"['LX/4Uu.&lt;init&gt;()\", \"['Landroid/animation/An...</td>\n",
       "    </tr>\n",
       "  </tbody>\n",
       "</table>\n",
       "</div>"
      ],
      "text/plain": [
       "                                              SHA256        NOME  \\\n",
       "0  6cfa96a0d96e9888d695c9c2073d95cae50867c5892f13...  OBWhatsApp   \n",
       "\n",
       "           PACOTE  API  API_MIN  \\\n",
       "0  com.obwhatsapp   29       16   \n",
       "\n",
       "                                          PERMISSOES  \\\n",
       "0  ['android.permission.RECORD_AUDIO', 'android.p...   \n",
       "\n",
       "                                             INTENTS  \\\n",
       "0  ['com.obwhatsapp.instrumentation.REQUEST', 'an...   \n",
       "\n",
       "                                           ACTIVITYS  \\\n",
       "0  ['com.obwhatsapp.instrumentation.ui.Instrument...   \n",
       "\n",
       "                                            SERVICES  \\\n",
       "0  ['com.obwhatsapp.instrumentation.service.Instr...   \n",
       "\n",
       "                                            RECEIVER  \\\n",
       "0  ['com.obwhatsapp.migration.android.api.Deferre...   \n",
       "\n",
       "                                            PROVIDER  \\\n",
       "0  ['com.obwhatsapp.instrumentation.api.Instrumen...   \n",
       "\n",
       "                                             OPCODES  \\\n",
       "0  ['iput-object', 'invoke-direct', 'return-void'...   \n",
       "\n",
       "                                            APICALLS  \n",
       "0  [\"['LX/4Uu.<init>()\", \"['Landroid/animation/An...  "
      ]
     },
     "execution_count": 6,
     "metadata": {},
     "output_type": "execute_result"
    }
   ],
   "source": [
    "df.head()"
   ]
  },
  {
   "cell_type": "code",
   "execution_count": 7,
   "metadata": {},
   "outputs": [
    {
     "data": {
      "text/plain": [
       "61"
      ]
     },
     "execution_count": 7,
     "metadata": {},
     "output_type": "execute_result"
    }
   ],
   "source": [
    "split_PERM = df['PERMISSOES'][0].split(\",\")\n",
    "len(split_PERM)"
   ]
  },
  {
   "cell_type": "code",
   "execution_count": 8,
   "metadata": {},
   "outputs": [
    {
     "name": "stdout",
     "output_type": "stream",
     "text": [
      "['android.permission.RECORD_AUDIO'\n",
      " 'android.permission.WRITE_EXTERNAL_STORAGE'\n",
      " 'android.permission.MANAGE_OWN_CALLS'\n",
      " 'android.permission.CHANGE_WIFI_STATE'\n",
      " 'com.android.launcher.permission.UNINSTALL_SHORTCUT'\n",
      " 'android.permission.MANAGE_ACCOUNTS'\n",
      " 'com.huawei.android.launcher.permission.WRITE_SETTINGS'\n",
      " 'android.permission.READ_SYNC_STATS'\n",
      " 'android.permission.READ_PHONE_STATE'\n",
      " 'android.permission.ACCESS_NETWORK_STATE'\n",
      " 'android.permission.BROADCAST_STICKY'\n",
      " 'android.permission.GET_TASKS'\n",
      " 'com.htc.launcher.permission.UPDATE_SHORTCUT'\n",
      " 'android.permission.WRITE_CONTACTS'\n",
      " 'android.permission.READ_EXTERNAL_STORAGE'\n",
      " 'com.obwhatsapp.permission.JPUSH_MESSAGE'\n",
      " 'android.permission.ACCESS_COARSE_LOCATION'\n",
      " 'android.permission.READ_PROFILE'\n",
      " 'com.sec.android.provider.badge.permission.READ'\n",
      " 'android.permission.CHANGE_NETWORK_STATE'\n",
      " 'android.permission.RECEIVE_BOOT_COMPLETED'\n",
      " 'com.sec.android.provider.badge.permission.WRITE'\n",
      " 'com.sonymobile.home.permission.PROVIDER_INSERT_BADGE'\n",
      " 'android.permission.READ_CONTACTS'\n",
      " 'android.permission.AUTHENTICATE_ACCOUNTS'\n",
      " 'com.obwhatsapp.permission.BROADCAST'\n",
      " 'com.google.android.c2dm.permission.RECEIVE'\n",
      " 'android.permission.USE_BIOMETRIC'\n",
      " 'android.permission.SEND_SMS'\n",
      " 'android.permission.READ_SYNC_SETTINGS'\n",
      " 'android.permission.WRITE_SYNC_SETTINGS'\n",
      " 'com.obwhatsapp.permission.MAPS_RECEIVE'\n",
      " 'com.obwhatsapp.permission.REGISTRATION'\n",
      " 'android.permission.READ_PHONE_NUMBERS'\n",
      " 'android.permission.USE_FINGERPRINT'\n",
      " 'android.permission.BLUETOOTH'\n",
      " 'com.android.launcher.permission.INSTALL_SHORTCUT'\n",
      " 'android.permission.ACCESS_FINE_LOCATION'\n",
      " 'android.permission.USE_CREDENTIALS'\n",
      " 'android.permission.INTERNET'\n",
      " 'android.permission.WAKE_LOCK'\n",
      " 'android.permission.MODIFY_AUDIO_SETTINGS'\n",
      " 'com.huawei.android.launcher.permission.READ_SETTINGS'\n",
      " 'android.permission.RECEIVE_SMS'\n",
      " 'android.permission.SYSTEM_ALERT_WINDOW'\n",
      " 'android.permission.VIBRATE'\n",
      " 'android.permission.FOREGROUND_SERVICE'\n",
      " 'android.permission.NFC'\n",
      " 'com.htc.launcher.permission.READ_SETTINGS'\n",
      " 'android.permission.GET_ACCOUNTS'\n",
      " 'com.whatsapp.sticker.READ'\n",
      " 'android.permission.CAMERA'\n",
      " 'android.permission.INSTALL_SHORTCUT'\n",
      " 'com.google.android.providers.gsf.permission.READ_GSERVICES'\n",
      " 'com.huawei.android.launcher.permission.CHANGE_BADGE'\n",
      " 'android.permission.QUERY_ALL_PACKAGES'\n",
      " 'com.sonyericsson.home.permission.BROADCAST_BADGE'\n",
      " 'android.permission.REQUEST_INSTALL_PACKAGES'\n",
      " 'com.samsung.android.providers.context.permission.WRITE_USE_APP_FEATURE_SURVEY'\n",
      " 'android.permission.ACCESS_WIFI_STATE'\n",
      " 'android.permission.USE_FULL_SCREEN_INTENT']\n"
     ]
    }
   ],
   "source": [
    "for i in split_PERM:\n",
    "    print(i)"
   ]
  }
 ],
 "metadata": {
  "interpreter": {
   "hash": "d91edcd1d680c704b7f2fade50b7432a288b39baa723c7dec24d1ad2f238d26b"
  },
  "kernelspec": {
   "display_name": "Python 3.9.13 64-bit (windows store)",
   "language": "python",
   "name": "python3"
  },
  "language_info": {
   "codemirror_mode": {
    "name": "ipython",
    "version": 3
   },
   "file_extension": ".py",
   "mimetype": "text/x-python",
   "name": "python",
   "nbconvert_exporter": "python",
   "pygments_lexer": "ipython3",
   "version": "3.9.13"
  },
  "orig_nbformat": 4
 },
 "nbformat": 4,
 "nbformat_minor": 2
}
